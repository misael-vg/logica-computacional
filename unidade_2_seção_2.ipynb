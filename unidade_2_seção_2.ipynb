{
  "nbformat": 4,
  "nbformat_minor": 0,
  "metadata": {
    "colab": {
      "provenance": [],
      "authorship_tag": "ABX9TyMpXiwAzQWhKlhHghpstZOq",
      "include_colab_link": true
    },
    "kernelspec": {
      "name": "python3",
      "display_name": "Python 3"
    },
    "language_info": {
      "name": "python"
    }
  },
  "cells": [
    {
      "cell_type": "markdown",
      "metadata": {
        "id": "view-in-github",
        "colab_type": "text"
      },
      "source": [
        "<a href=\"https://colab.research.google.com/github/misael-vg/logica-computacional/blob/main/unidade_2_se%C3%A7%C3%A3o_2.ipynb\" target=\"_parent\"><img src=\"https://colab.research.google.com/assets/colab-badge.svg\" alt=\"Open In Colab\"/></a>"
      ]
    },
    {
      "cell_type": "code",
      "execution_count": 1,
      "metadata": {
        "colab": {
          "base_uri": "https://localhost:8080/"
        },
        "id": "1Tj9Lgpktt5R",
        "outputId": "ec5b9add-cb4c-4ac5-bd06-5516a171929c"
      },
      "outputs": [
        {
          "output_type": "stream",
          "name": "stdout",
          "text": [
            "--- Demonstração de Álgebra de Conjuntos ---\n",
            "\n",
            "Conjunto A1: {10, 11, 12, 13, 14, 15}\n",
            "Conjunto B1: {16, 17, 18, 19, 13, 14, 15}\n",
            "União de A1 e B1 (A1 ∪ B1): {10, 11, 12, 13, 14, 15, 16, 17, 18, 19}\n",
            "Intersecção de A1 e B1 (A1 ∩ B1): {13, 14, 15}\n",
            "\n",
            "Conjunto A2: {1, 2, 3, 4, 5}\n",
            "Conjunto B2: {4, 5, 6, 7}\n",
            "Diferença A2 - B2: {1, 2, 3}\n",
            "Diferença B2 - A2: {6, 7}\n",
            "Diferença Simétrica A2 Δ B2: {1, 2, 3, 6, 7}\n",
            "\n",
            "--- Fim da Demonstração ---\n"
          ]
        }
      ],
      "source": [
        "# Unidade 2, Seção 2: Álgebra de Conjuntos\n",
        "# Exemplo de operações de conjuntos em Python (para Colab)\n",
        "\n",
        "print(\"--- Demonstração de Álgebra de Conjuntos ---\")\n",
        "\n",
        "# 1. Definição dos Conjuntos\n",
        "# Usaremos exemplos de conjuntos numéricos para ilustrar as operações.\n",
        "\n",
        "# Conjuntos para União e Intersecção (baseado em [LIVRO_UNICO, p. 154])\n",
        "A1 = {10, 11, 12, 13, 14, 15}\n",
        "B1 = {13, 14, 15, 16, 17, 18, 19}\n",
        "\n",
        "print(f\"\\nConjunto A1: {A1}\")\n",
        "print(f\"Conjunto B1: {B1}\")\n",
        "\n",
        "# 2. Operações Fundamentais\n",
        "\n",
        "# a) União (∪)\n",
        "# A união de A e B consiste em todos os elementos que pertencem a A OU a B (ou a ambos) [LIVRO_UNICO, Seção 2].\n",
        "uniao_A1_B1 = A1.union(B1)\n",
        "print(f\"União de A1 e B1 (A1 ∪ B1): {uniao_A1_B1}\")\n",
        "\n",
        "# b) Intersecção (∩)\n",
        "# A intersecção de A e B consiste nos elementos comuns a ambos os conjuntos (que pertencem a A E a B) [LIVRO_UNICO, Seção 2].\n",
        "interseccao_A1_B1 = A1.intersection(B1)\n",
        "print(f\"Intersecção de A1 e B1 (A1 ∩ B1): {interseccao_A1_B1}\")\n",
        "\n",
        "# Conjuntos para Diferença e Diferença Simétrica (baseado em [LIVRO_UNICO, p. 158-159])\n",
        "A2 = {1, 2, 3, 4, 5}\n",
        "B2 = {4, 5, 6, 7}\n",
        "\n",
        "print(f\"\\nConjunto A2: {A2}\")\n",
        "print(f\"Conjunto B2: {B2}\")\n",
        "\n",
        "# c) Diferença (−)\n",
        "# A diferença A - B é o conjunto de todos os elementos que pertencem a A, mas NÃO a B [LIVRO_UNICO, Seção 2].\n",
        "diferenca_A2_B2 = A2.difference(B2)\n",
        "print(f\"Diferença A2 - B2: {diferenca_A2_B2}\")\n",
        "\n",
        "diferenca_B2_A2 = B2.difference(A2)\n",
        "print(f\"Diferença B2 - A2: {diferenca_B2_A2}\")\n",
        "\n",
        "# d) Diferença Simétrica (Δ)\n",
        "# A diferença simétrica A Δ B é o conjunto de todos os elementos que pertencem a A mas não a B,\n",
        "# OU que pertencem a B mas não a A [LIVRO_UNICO, Seção 2].\n",
        "diferenca_simetrica_A2_B2 = A2.symmetric_difference(B2)\n",
        "print(f\"Diferença Simétrica A2 Δ B2: {diferenca_simetrica_A2_B2}\")\n",
        "\n",
        "print(\"\\n--- Fim da Demonstração ---\")"
      ]
    }
  ]
}