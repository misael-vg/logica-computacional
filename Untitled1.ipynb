{
  "nbformat": 4,
  "nbformat_minor": 0,
  "metadata": {
    "colab": {
      "provenance": [],
      "authorship_tag": "ABX9TyMYxoq9A+fIreprA2nA679S",
      "include_colab_link": true
    },
    "kernelspec": {
      "name": "python3",
      "display_name": "Python 3"
    },
    "language_info": {
      "name": "python"
    }
  },
  "cells": [
    {
      "cell_type": "markdown",
      "metadata": {
        "id": "view-in-github",
        "colab_type": "text"
      },
      "source": [
        "<a href=\"https://colab.research.google.com/github/misael-vg/logica-computacional/blob/main/Untitled1.ipynb\" target=\"_parent\"><img src=\"https://colab.research.google.com/assets/colab-badge.svg\" alt=\"Open In Colab\"/></a>"
      ]
    },
    {
      "cell_type": "code",
      "execution_count": 1,
      "metadata": {
        "colab": {
          "base_uri": "https://localhost:8080/"
        },
        "id": "WaX3DRkl4K14",
        "outputId": "af1801a3-48be-4838-907d-c319e472884a"
      },
      "outputs": [
        {
          "output_type": "stream",
          "name": "stdout",
          "text": [
            "--- Análise de Negociação com o Cliente (Baseada em Lógica) ---\n",
            "\n",
            "Proposição 1 (Indutiva): 'O software da empresa resolve o problema do cliente.'\n",
            "Valor lógico: True (Conclusão baseada em 'dezenas de testes') [11]\n",
            "\n",
            "Proposição 2 (Indutiva): 'O cliente sempre adquire os softwares que resolvem seus problemas.'\n",
            "Valor lógico: True (Conclusão baseada no histórico de aquisições) [12]\n",
            "\n",
            "--- Raciocínio Dedutivo (Combinando as Premissas) --- [13]\n",
            "Premissa 1: 'O cliente sempre adquire os softwares que resolvem seus problemas.' (True)\n",
            "Premissa 2: 'O software da sua empresa resolve o problema do cliente.' (True)\n",
            "\n",
            "Conclusão (Dedutiva): 'Portanto, o software da sua empresa será adquirido.'\n",
            "Valor lógico da Conclusão: True\n",
            "\n",
            "--- Observação Importante sobre a Validade ---\n",
            "É crucial lembrar que as conclusões derivadas de raciocínio indutivo são válidas\n",
            "APENAS até que um contraexemplo seja encontrado. [8, 13]\n",
            "Por exemplo, se o cliente, por algum motivo, decidir não comprar desta vez,\n",
            "isso seria um contraexemplo que invalidaria a premissa indutiva anterior. [13]\n",
            "Assim, embora a lógica dedutiva garanta a conclusão se as premissas são verdadeiras,\n",
            "a verdade das premissas indutivas deve ser sempre considerada com cautela. [13]\n"
          ]
        }
      ],
      "source": [
        "# --- Exemplo de Lógica Computacional em Python (Unidade 1, Seção 1) ---\n",
        "\n",
        "# Este código ilustra a aplicação de raciocínio lógico, especialmente\n",
        "# inferências indutivas e dedutivas, conforme discutido na Unidade 1, Seção 1\n",
        "# do livro \"Lógica Computacional\". O cenário é o problema de interpretação\n",
        "# de e-mails de clientes para decidir sobre o fechamento de um negócio.\n",
        "\n",
        "print(\"--- Análise de Negociação com o Cliente (Baseada em Lógica) ---\")\n",
        "\n",
        "# Definição de Proposições [5, 14]:\n",
        "# No contexto do problema, as \"premissas\" para o raciocínio dedutivo são,\n",
        "# na verdade, conclusões obtidas por meio de raciocínio indutivo.\n",
        "\n",
        "# Premissa 1 (Obtida por Lógica Indutiva):\n",
        "# A partir da frase: \"Realizamos dezenas de testes com o seu software e em todos ele foi capaz de chegar à melhor solução para nosso problema.” [11]\n",
        "# O raciocínio indutivo nos permite generalizar a partir de múltiplos testes particulares. [7, 11]\n",
        "# Assumimos que a inferência indutiva nos leva a uma verdade:\n",
        "software_resolve_problema_cliente = True\n",
        "print(f\"\\nProposição 1 (Indutiva): 'O software da empresa resolve o problema do cliente.'\")\n",
        "print(f\"Valor lógico: {software_resolve_problema_cliente} (Conclusão baseada em 'dezenas de testes') [11]\")\n",
        "\n",
        "# Premissa 2 (Obtida por Lógica Indutiva):\n",
        "# A partir da frase: “Nos últimos anos, os softwares que resolveram nossos problemas foram adquiridos para a melhoria de nossos processos.” [12]\n",
        "# Novamente, o raciocínio indutivo é usado para inferir uma regra geral a partir de casos passados. [7, 12]\n",
        "# Assumimos que a inferência indutiva nos leva a uma verdade:\n",
        "cliente_sempre_adquire_solucoes = True\n",
        "print(f\"\\nProposição 2 (Indutiva): 'O cliente sempre adquire os softwares que resolvem seus problemas.'\")\n",
        "print(f\"Valor lógico: {cliente_sempre_adquire_solucoes} (Conclusão baseada no histórico de aquisições) [12]\")\n",
        "\n",
        "# Argumento e Conclusão (Lógica Dedutiva) [5, 10, 13]:\n",
        "# A lógica dedutiva parte das premissas (gerais, neste caso, obtidas indutivamente)\n",
        "# para chegar a uma conclusão particular. [10]\n",
        "# O silogismo dedutivo é:\n",
        "# Premissa Maior: Todo software que resolve problema do cliente é adquirido.\n",
        "# Premissa Menor: O software da sua empresa resolve o problema do cliente.\n",
        "# Conclusão: O software da sua empresa será adquirido.\n",
        "# Este é um \"silogismo\", um tipo de raciocínio dedutivo. [5, 10]\n",
        "\n",
        "# Usamos o operador lógico 'and' do Python, que representa a conjunção ('e').\n",
        "# A conjunção é uma operação lógica fundamental para combinar proposições. [15, 16]\n",
        "negocio_sera_fechado = software_resolve_problema_cliente and cliente_sempre_adquire_solucoes\n",
        "\n",
        "print(f\"\\n--- Raciocínio Dedutivo (Combinando as Premissas) --- [13]\")\n",
        "print(f\"Premissa 1: 'O cliente sempre adquire os softwares que resolvem seus problemas.' ({cliente_sempre_adquire_solucoes})\")\n",
        "print(f\"Premissa 2: 'O software da sua empresa resolve o problema do cliente.' ({software_resolve_problema_cliente})\")\n",
        "\n",
        "print(f\"\\nConclusão (Dedutiva): 'Portanto, o software da sua empresa será adquirido.'\")\n",
        "print(f\"Valor lógico da Conclusão: {negocio_sera_fechado}\")\n",
        "\n",
        "# Observação sobre a Lógica Indutiva [8, 13]:\n",
        "print(\"\\n--- Observação Importante sobre a Validade ---\")\n",
        "print(\"É crucial lembrar que as conclusões derivadas de raciocínio indutivo são válidas\")\n",
        "print(\"APENAS até que um contraexemplo seja encontrado. [8, 13]\")\n",
        "print(\"Por exemplo, se o cliente, por algum motivo, decidir não comprar desta vez,\")\n",
        "print(\"isso seria um contraexemplo que invalidaria a premissa indutiva anterior. [13]\")\n",
        "print(\"Assim, embora a lógica dedutiva garanta a conclusão se as premissas são verdadeiras,\")\n",
        "print(\"a verdade das premissas indutivas deve ser sempre considerada com cautela. [13]\")"
      ]
    }
  ]
}