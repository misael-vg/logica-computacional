{
  "nbformat": 4,
  "nbformat_minor": 0,
  "metadata": {
    "colab": {
      "provenance": [],
      "authorship_tag": "ABX9TyMLE4oxN5ipmEmJqGpr5Zn/",
      "include_colab_link": true
    },
    "kernelspec": {
      "name": "python3",
      "display_name": "Python 3"
    },
    "language_info": {
      "name": "python"
    }
  },
  "cells": [
    {
      "cell_type": "markdown",
      "metadata": {
        "id": "view-in-github",
        "colab_type": "text"
      },
      "source": [
        "<a href=\"https://colab.research.google.com/github/misael-vg/logica-computacional/blob/main/unidade_1_sess%C3%A3o_1_.ipynb\" target=\"_parent\"><img src=\"https://colab.research.google.com/assets/colab-badge.svg\" alt=\"Open In Colab\"/></a>"
      ]
    },
    {
      "cell_type": "code",
      "source": [
        "# Código Python simplificado para os Fundamentos da Lógica Computacional\n",
        "# Baseado nos conceitos da Unidade 1, Seção 1.\n",
        "\n",
        "def verificar_proposicao(frase):\n",
        "    \"\"\"\n",
        "    Verifica se uma frase é uma proposição.\n",
        "    Uma proposição é uma sentença declarativa que pode ser classificada\n",
        "    como verdadeira ou falsa, mas nunca ambas ao mesmo tempo [1-4].\n",
        "    \"\"\"\n",
        "    # Exemplos de frases que NÃO são proposições:\n",
        "    # Perguntas [5]\n",
        "    if frase.endswith('?'):\n",
        "        return False, \"Não é uma proposição (é uma pergunta).\"\n",
        "    # Exclamações [5]\n",
        "    if frase.endswith('!'):\n",
        "        return False, \"Não é uma proposição (é uma exclamação).\"\n",
        "    # Ordens/Imperativas [5]\n",
        "    if frase.lower().startswith((\"segure\", \"abra\", \"faça\", \"vá\")):\n",
        "        return False, \"Não é uma proposição (é uma ordem/imperativa).\"\n",
        "    # Frases ambíguas sem contexto [4]\n",
        "    if \"Está chovendo agora\" in frase:\n",
        "        return False, \"Não é uma proposição (ambígua, precisa de contexto específico).\"\n",
        "\n",
        "    return True, \"É uma proposição (declarativa e pode ser Verdadeira ou Falsa).\"\n",
        "\n",
        "def apresentar_proposicao(texto_proposicao, valor_assumido=None):\n",
        "    \"\"\"\n",
        "    Apresenta uma proposição e seu valor lógico (se aplicável).\n",
        "    Uma proposição é Verdadeira (V ou 1) ou Falsa (F ou 0) [4].\n",
        "    \"\"\"\n",
        "    e_proposicao, razao = verificar_proposicao(texto_proposicao)\n",
        "    if e_proposicao:\n",
        "        print(f\"'{texto_proposicao}' -> **É uma proposição**. Valor lógico: {valor_assumido}.\")\n",
        "    else:\n",
        "        print(f\"'{texto_proposicao}' -> {razao}.\")\n",
        "\n",
        "def demonstrar_silogismo(premissa_maior, premissa_menor, conclusao):\n",
        "    \"\"\"\n",
        "    Demonstra um silogismo (tipo de raciocínio dedutivo) [6, 7].\n",
        "    A lógica foca na validade do raciocínio, não necessariamente na verdade das premissas isoladas [8-10].\n",
        "    \"\"\"\n",
        "    print(\"\\n--- Exemplo de Raciocínio Dedutivo (Silogismo) ---\")\n",
        "    print(f\"Premissa Maior: {premissa_maior}\")\n",
        "    print(f\"Premissa Menor: {premissa_menor}\")\n",
        "    print(f\"Conclusão: {conclusao}\")\n",
        "    print(\"\\nNo raciocínio dedutivo, se as premissas forem verdadeiras, a conclusão é inevitável [7, 9, 11].\")\n",
        "\n",
        "# --- Execução da Demonstração ---\n",
        "print(\"Bem-vindo aos fundamentos simplificados da Lógica Computacional!\")\n",
        "print(\"Essa lógica é fundamental para a **construção de algoritmos** e o **desenvolvimento de sistemas** [12, 13].\")\n",
        "\n",
        "print(\"\\n--- 1. O que é uma Proposição? ---\")\n",
        "print(\"É uma frase declarativa que pode ser **Verdadeira ou Falsa**, mas nunca as duas coisas [1-3].\")\n",
        "\n",
        "apresentar_proposicao(\"O céu é azul.\", \"Verdadeiro\")\n",
        "apresentar_proposicao(\"Paris é a capital da Alemanha.\", \"Falso\")\n",
        "apresentar_proposicao(\"Qual é o seu nome?\")\n",
        "apresentar_proposicao(\"Feche a porta!\")\n",
        "apresentar_proposicao(\"Que dia lindo!\")\n",
        "apresentar_proposicao(\"Está chovendo agora\") # Exemplo de ambiguidade que impede ser proposição sem contexto [4]\n",
        "\n",
        "print(\"\\n--- 2. Raciocínio Dedutivo (Silogismo) ---\")\n",
        "print(\"Um **silogismo** é um tipo de argumento lógico que parte de premissas para chegar a uma conclusão [6, 7, 11, 14].\")\n",
        "print(\"A lógica computacional se baseia em **'argumentos'**, que são conjuntos de proposições (premissas) que levam a uma **'conclusão'** [6].\")\n",
        "\n",
        "# Exemplo clássico de silogismo dedutivo [7]\n",
        "demonstrar_silogismo(\n",
        "    \"Todo analista de sistemas sabe programar.\",\n",
        "    \"Mariana é analista de sistemas.\",\n",
        "    \"Portanto, Mariana sabe programar.\"\n",
        ")\n",
        "print(\"\\nEste é um **argumento válido**, pois se as premissas forem verdadeiras, a conclusão é logicamente inevitável [9, 11].\")"
      ],
      "metadata": {
        "colab": {
          "base_uri": "https://localhost:8080/"
        },
        "id": "vWezQSd6cKPt",
        "outputId": "85ef5f5e-9c82-4214-a93f-e9ac3884a713"
      },
      "execution_count": 1,
      "outputs": [
        {
          "output_type": "stream",
          "name": "stdout",
          "text": [
            "Bem-vindo aos fundamentos simplificados da Lógica Computacional!\n",
            "Essa lógica é fundamental para a **construção de algoritmos** e o **desenvolvimento de sistemas** [12, 13].\n",
            "\n",
            "--- 1. O que é uma Proposição? ---\n",
            "É uma frase declarativa que pode ser **Verdadeira ou Falsa**, mas nunca as duas coisas [1-3].\n",
            "'O céu é azul.' -> **É uma proposição**. Valor lógico: Verdadeiro.\n",
            "'Paris é a capital da Alemanha.' -> **É uma proposição**. Valor lógico: Falso.\n",
            "'Qual é o seu nome?' -> Não é uma proposição (é uma pergunta)..\n",
            "'Feche a porta!' -> Não é uma proposição (é uma exclamação)..\n",
            "'Que dia lindo!' -> Não é uma proposição (é uma exclamação)..\n",
            "'Está chovendo agora' -> Não é uma proposição (ambígua, precisa de contexto específico)..\n",
            "\n",
            "--- 2. Raciocínio Dedutivo (Silogismo) ---\n",
            "Um **silogismo** é um tipo de argumento lógico que parte de premissas para chegar a uma conclusão [6, 7, 11, 14].\n",
            "A lógica computacional se baseia em **'argumentos'**, que são conjuntos de proposições (premissas) que levam a uma **'conclusão'** [6].\n",
            "\n",
            "--- Exemplo de Raciocínio Dedutivo (Silogismo) ---\n",
            "Premissa Maior: Todo analista de sistemas sabe programar.\n",
            "Premissa Menor: Mariana é analista de sistemas.\n",
            "Conclusão: Portanto, Mariana sabe programar.\n",
            "\n",
            "No raciocínio dedutivo, se as premissas forem verdadeiras, a conclusão é inevitável [7, 9, 11].\n",
            "\n",
            "Este é um **argumento válido**, pois se as premissas forem verdadeiras, a conclusão é logicamente inevitável [9, 11].\n"
          ]
        }
      ]
    }
  ]
}